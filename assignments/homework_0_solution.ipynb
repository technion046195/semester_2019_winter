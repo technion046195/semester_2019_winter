{
  "nbformat": 4,
  "nbformat_minor": 0,
  "metadata": {
    "colab": {
      "name": "Untitled12.ipynb",
      "provenance": [],
      "collapsed_sections": []
    },
    "kernelspec": {
      "name": "python3",
      "display_name": "Python 3"
    }
  },
  "cells": [
    {
      "cell_type": "markdown",
      "metadata": {
        "id": "z21J2MNsDCwm",
        "colab_type": "text"
      },
      "source": [
        "#Homework 0 - Introduction to Python + Mathematical Backgroud"
      ]
    },
    {
      "cell_type": "markdown",
      "metadata": {
        "id": "DKeHUEVMqQi5",
        "colab_type": "text"
      },
      "source": [
        "In this assignment we will go over:\n",
        "- The basics of the python language.\n",
        "- The Collaboratory service.\n",
        "- Some nessecery Python packages.\n",
        "- A short review of some basic concepts in linear algebra.\n",
        "- A short review of probability theory.\n",
        "\n",
        "You do not need to submit this homework assignment, but it is mandatory to go over it.\n",
        "\n",
        "Enjoy 🙂"
      ]
    },
    {
      "cell_type": "markdown",
      "metadata": {
        "id": "WpjgIuElEEIO",
        "colab_type": "text"
      },
      "source": [
        "## About Python\n",
        "\n",
        "Python is a porograming language which has gain massive popularity in recent years both for building lagre systems and for quick prototyping and doing reaserch. The hands-on assignments (תרגילים רטובים) in this course will be given in python and the tutorials will contain codes examples in python as well.\n",
        "\n",
        "Here are a few motivational points for why we decided teach using Python, and why should you learn it?\n",
        "\n",
        "- It is a very powerful programing language and yet very simple to learn and to get started with. ([See what XKCD has to say about it](https://xkcd.com/353/))\n",
        "- It is currently one of the most popular programming languages. ([It is the 3rd most popular language, after C and Java](https://www.tiobe.com/tiobe-index/))\n",
        "- Almost all new frameworks in the field of machine learning are developed for python: PyTorch, TensorFlow, Keras, etc.\n",
        "- It has a ridiculously rich set of packages for almost any task. From basic mathematical tools([basic numeric](http://www.numpy.org/), [advance numerics](https://www.scipy.org/scipylib/index.html), [symbolic math](https://www.sympy.org) [data handling](https://pandas.pydata.org/), [visualizing](https://mode.com/blog/python-data-visualization-libraries), etc.), through a range of advanced frameworks for [deep learning](https://www.kdnuggets.com/2017/02/python-deep-learning-frameworks-overview.html), [distributed computing](https://wiki.python.org/moin/ParallelProcessing), [web servers](https://www.djangoproject.com/), etc. and up to stuff such as a complete framework for writing [simple games](https://www.pygame.org)\n",
        "- It's open-source (=> free) with a huge community behind it.\n",
        "\n",
        "### Learning Python\n",
        "\n",
        "Learning only the basic concepts of the language in order to get started with Python is relativly easy, and in this homework assignment we will try to briefly go through those basic to help get you up and runnning. It is expected however (and perfectly fine), that if this is your first time using Python it will take you a while (and some frustration) to get the hang of it. Writing this assignment we have assume that you do have some minimal experiance in programing and that many of you have worked with Matlab before. \n",
        "\n",
        "You will probably need every now and then to relay on the web for help to solve bugs and to understand parts of the code. There is a large number of great resources available online for learning Python, and these resources are almost always much better than any introduction which we can write on the subject. We have listed a few in the \"online resources section\" at the end of this assignment. You are encouraged to check them out whenever you get stuck.\n",
        "\n",
        "And of course: <http://bfy.tw/N2JF>\n"
      ]
    },
    {
      "cell_type": "markdown",
      "metadata": {
        "id": "yttqbOuSD9Rv",
        "colab_type": "text"
      },
      "source": [
        "## Colab\n",
        "\n",
        "The hands-on part (תרגילים רטובים) of the homework assignment in this course will be given in the form of Colaboratory notebooks such as this one. Colaboratory is a free service offered by Google, which is based on the [Jupyter project](https://jupyter.org/). Through this this service, Google allows any one with a Google account to run python code on their servers.\n",
        "\n",
        "These notebooks are simple a collection of cells of formatted text, such as this cell, along with Python code cells, such as this one:"
      ]
    },
    {
      "cell_type": "code",
      "metadata": {
        "id": "6GoOZ6l7lUnT",
        "colab_type": "code",
        "outputId": "8c6ad332-885d-4393-c1a7-f2c2904b3024",
        "colab": {
          "base_uri": "https://localhost:8080/",
          "height": 34
        }
      },
      "source": [
        "x = 3\n",
        "print('x is equal to', x)"
      ],
      "execution_count": 0,
      "outputs": [
        {
          "output_type": "stream",
          "text": [
            "x is equal to 3\n"
          ],
          "name": "stdout"
        }
      ]
    },
    {
      "cell_type": "markdown",
      "metadata": {
        "id": "qrHGfG4olmki",
        "colab_type": "text"
      },
      "source": [
        "### Making your own copy of the notebook\n",
        "\n",
        "By following the [public link](https://colab.research.google.com/github/technion046195/semester_2019_spring/blob/master/assignments/homework_1_probability_estimation.ipynb)\n",
        "on the course's website, you have opened the public copy of this notebook in a **viewing only mode**.\n",
        "In this mode you will not be able to make any changes. In this mode, you should see the a **VIEWING** status on the upper right corner of the page.\n",
        "\n",
        "To make changes to the notebook and be able to save them you will need to create your own copy of this notebook. For that, you will need a Google account.\n",
        "\n",
        "1. In the rare case that you don't already have an account, you can create one [here](https://accounts.google.com/SignUp).\n",
        "2. Make sure that you are logged in into your account. If you are not logged in you will have a **Sign in** button on the upper right corner of this page, Click on it and log into your account.\n",
        "\n",
        "Now, to make a personal copy of this notebook open the **file** menu from the menu bar and select **Save a copy in drive...** . The notebook's name at the top of this page should change to \"**Copy of homework_1_probability_estimation.ipynb**\" and the status on the upper right corner should change into **EDITING** \n",
        "\n",
        "#### Notebooks name and location\n",
        "\n",
        "By default, the new copy which you have just created is saved into your [Google drive](https://drive.google.com/drive) under a folder called **Colab Notebooks**. You can view this folder by selecting **Locate in Drive** from the **file** menu.\n",
        "\n",
        "**Recomenaded**: You can rename the notebook by clicking on the notebook's name in the tile of this page.\n",
        "\n",
        "Now we are ready to start editing 👍"
      ]
    },
    {
      "cell_type": "markdown",
      "metadata": {
        "id": "5OtjrCthptcC",
        "colab_type": "text"
      },
      "source": [
        "### ✍️ Saving and loading notebooks\n",
        "\n",
        "- To save a notebook press **Ctrl+S** (or select **save** from the **file** menu).\n",
        "- To load a saved notebook, open the **Colab Notebooks** folder in your [Google drive](https://drive.google.com/drive), and double click on the saved notebook. (If you did not rename it should appear as \"**Copy of homework_1_probability_estimation.ipynb**\") Note that in Google Drive you can have more than 1 file with the same name in the same folder.\n",
        "\n",
        "Before you start, make sure that you can save and load this notebook. Start be replacing the text in the code cell below with our own ID numbers. Then save and load this notebook, and make sure that the IDs were indeed saved."
      ]
    },
    {
      "cell_type": "code",
      "metadata": {
        "id": "WUqv5q97sRtz",
        "colab_type": "code",
        "outputId": "a62a893a-29cf-49db-f4e2-84c41e802ba0",
        "colab": {
          "base_uri": "https://localhost:8080/",
          "height": 34
        }
      },
      "source": [
        "## %%%%%%%%%%%%%%% Your code here - Begin %%%%%%%%%%%%%%%\n",
        "## Replace the test bellow with our own\n",
        "my_text = '!!!Change Me!!!'\n",
        "## %%%%%%%%%%%%%%% Your code here - End %%%%%%%%%%%%%%%%%\n",
        "\n",
        "print('You wrote:', my_text)"
      ],
      "execution_count": 0,
      "outputs": [
        {
          "output_type": "stream",
          "text": [
            "You wrote: !!!Change Me!!!\n"
          ],
          "name": "stdout"
        }
      ]
    },
    {
      "cell_type": "markdown",
      "metadata": {
        "id": "59RcBqZlsmn2",
        "colab_type": "text"
      },
      "source": [
        "### Expending all cells\n",
        "\n",
        "When you open a new notebook some sections might be hidden (collapsed), showing only the title of the section with a \"↳ # cells hidden\" note beneath it. Before you start, make show you expand all the sections. You can do so by pressing **Ctrl+[** or by clicking on all the \"↳ # cells hidden\" lines."
      ]
    },
    {
      "cell_type": "markdown",
      "metadata": {
        "id": "C5vwf_4rsqIh",
        "colab_type": "text"
      },
      "source": [
        "### Running a cell\n",
        "\n",
        "To run a specific code cell, such as the one above, select the cell using the mouse or the up/down keys, and press **Shift+Enter**. \n",
        "\n",
        "Run the code cell above. You should see the output of this cell beneath it."
      ]
    },
    {
      "cell_type": "markdown",
      "metadata": {
        "id": "qiWL5W5NswBN",
        "colab_type": "text"
      },
      "source": [
        "### ✍️ Your assignments\n",
        "\n",
        "In these assignments, you will have to follow the instruction in the notebooks and fill in the missing code blocks according to the instructions. The cells containing the instructions will be marked with ✍️. The line of code which you will be expected to fill in will be surrounded by the two following comments:\n",
        "\n",
        "\n",
        "``` python\n",
        "## %%%%%%%%%%%%%%% Your code here - Begin %%%%%%%%%%%%%%%\n",
        "\n",
        "## %%%%%%%%%%%%%%% Your code here - End %%%%%%%%%%%%%%%%%\n",
        "```\n",
        "\n",
        "For example: fill in the following code block to assign the value $x+10$ to the variable $y$ (replace the ... with your code):"
      ]
    },
    {
      "cell_type": "code",
      "metadata": {
        "id": "5cuaDv4zsyjO",
        "colab_type": "code",
        "outputId": "a47ada85-06f7-4ef4-e052-83cf9610dd93",
        "colab": {
          "base_uri": "https://localhost:8080/",
          "height": 34
        }
      },
      "source": [
        "x = 3\n",
        "## %%%%%%%%%%%%%%% Your code here - Begin %%%%%%%%%%%%%%%\n",
        "## assign x + 10 to y:\n",
        "y = ...\n",
        "## %%%%%%%%%%%%%%% Your code here - End %%%%%%%%%%%%%%%%%\n",
        "\n",
        "print('y is equal to:', y)"
      ],
      "execution_count": 0,
      "outputs": [
        {
          "output_type": "stream",
          "text": [
            "y is equal to: Ellipsis\n"
          ],
          "name": "stdout"
        }
      ]
    },
    {
      "cell_type": "markdown",
      "metadata": {
        "id": "M8EYlvDos_sp",
        "colab_type": "text"
      },
      "source": [
        "### Running order\n",
        "\n",
        "The notebook engine lets you run the code cells in any order you prefer, but to make everything work as it was designed to, you need to make sure you run the code cell in the correct order (in which they appear in the notebook). If you want to start over and reset the Python's state (all code cells which ran previously) press **Ctrl+M I** (**Ctrl+M** followed by **I**), or select **Restart runtime...** from the **Runtime** menu.\n",
        "\n",
        "Restart the runtime and run all 3 code cells above this line."
      ]
    },
    {
      "cell_type": "markdown",
      "metadata": {
        "id": "Xp17TAOgtFSx",
        "colab_type": "text"
      },
      "source": [
        "### The last line in a code cell\n",
        "\n",
        "For convenience, if the last line of a code cell returns some value, it will be appended to the cell's output as well. For example, run the following cell:"
      ]
    },
    {
      "cell_type": "code",
      "metadata": {
        "id": "GUq8RSO_tO38",
        "colab_type": "code",
        "outputId": "45dd84ae-15ae-41fa-af7b-66c876ee61f7",
        "colab": {
          "base_uri": "https://localhost:8080/",
          "height": 51
        }
      },
      "source": [
        "## The output of this code cell would be y to the power of 2\n",
        "x = 3.14\n",
        "print('This is a ordinary print line')\n",
        "x ** 2  # The result of this line will appear in the output as well"
      ],
      "execution_count": 0,
      "outputs": [
        {
          "output_type": "stream",
          "text": [
            "This is a ordinary print line\n"
          ],
          "name": "stdout"
        },
        {
          "output_type": "execute_result",
          "data": {
            "text/plain": [
              "9.8596"
            ]
          },
          "metadata": {
            "tags": []
          },
          "execution_count": 5
        }
      ]
    },
    {
      "cell_type": "markdown",
      "metadata": {
        "id": "Yio5MLrmkFJ6",
        "colab_type": "text"
      },
      "source": [
        "\n",
        "### A Comment About Python Versions\n",
        "\n",
        "3 major versions of Python have been released so far. The latest (and most popular) version today is Python 3, but  there are a lot of places which still use Python 2. When looking at online resources keep in mind that there are some minor syntax changes between the two versions. In this course, we will be using version 3. These notebooks use it by default, so in general, you do not have to worry about it.\n",
        "\n"
      ]
    },
    {
      "cell_type": "markdown",
      "metadata": {
        "id": "c1LejBBhui0d",
        "colab_type": "text"
      },
      "source": [
        "## Python Basics"
      ]
    },
    {
      "cell_type": "markdown",
      "metadata": {
        "id": "aiyGUx5runhz",
        "colab_type": "text"
      },
      "source": [
        "### The *print()* function\n",
        "\n",
        "The *print()* function prints the values of the agruments passed to the function. The function can recive multiple arguments. In this case the function will print the values of all of the arguments seperated by a single space.\n",
        "\n",
        "### Comments\n",
        "\n",
        "Comments are created using the hash ('#') symbol. Anything after the # symbol will be ignored.\n",
        "\n",
        "In our course, for clerity, we will use a double # for commnts containing instructions or documentations (as oppose to lines of code which where commented out)"
      ]
    },
    {
      "cell_type": "code",
      "metadata": {
        "id": "EslvxPREDrK8",
        "colab_type": "code",
        "outputId": "3f25a3ea-1c50-43c5-b79d-ddd8f625fff8",
        "colab": {
          "base_uri": "https://localhost:8080/",
          "height": 34
        }
      },
      "source": [
        "# This is a comment\n",
        "## But in our course we will use this form for documentation.\n",
        "print('Always look on the bright side of life...') # This is a comment as well"
      ],
      "execution_count": 0,
      "outputs": [
        {
          "output_type": "stream",
          "text": [
            "Always look on the bright side of life...\n"
          ],
          "name": "stdout"
        }
      ]
    },
    {
      "cell_type": "markdown",
      "metadata": {
        "id": "LxaYPmNiQ5cJ",
        "colab_type": "text"
      },
      "source": [
        "✍️ Print the sentance 'Hello from Python :)'. Add a comment at the end of the line and on the line after."
      ]
    },
    {
      "cell_type": "code",
      "metadata": {
        "id": "Cqj5kWHkQ4kO",
        "colab_type": "code",
        "colab": {}
      },
      "source": [
        "## %%%%%%%%%%%%%%% Your code here - Begin %%%%%%%%%%%%%%%\n",
        "## print 'Hello from Python :)'\n",
        "print(...\n",
        "## %%%%%%%%%%%%%%% Your code here - End %%%%%%%%%%%%%%%%%"
      ],
      "execution_count": 0,
      "outputs": []
    },
    {
      "cell_type": "markdown",
      "metadata": {
        "id": "GdI30CjxDXV3",
        "colab_type": "text"
      },
      "source": [
        "### Variables\n",
        "\n",
        "Like in Matlab, Python is a dynamically typed language, which means that any variable can be assigned with any type of value (integer, floating number, string, array, etc.). Some of the build in types in Python are:\n",
        "- int: Interger\n",
        "- float: floating point\n",
        "- bool: Bollean (True/False)\n",
        "- str: string"
      ]
    },
    {
      "cell_type": "code",
      "metadata": {
        "id": "mAmuOQJLDCA4",
        "colab_type": "code",
        "outputId": "ad614db3-098c-455b-a6f8-23eacf6076be",
        "colab": {
          "base_uri": "https://localhost:8080/",
          "height": 323
        }
      },
      "source": [
        "var1 = 5\n",
        "print(\"var1 = \", var1)\n",
        "print('The type of the variable \"var1\" is:', type(var1), '\\n')\n",
        "\n",
        "var2 = var1 * 3.5\n",
        "print(\"var2 = \", var2)\n",
        "print('The type of the variable \"var2\" is:', type(var2), '\\n')\n",
        "\n",
        "var3 = False\n",
        "print(\"var3 = \", var3)\n",
        "print('The type of the variable \"var2\" is:', type(var3), '\\n')\n",
        "\n",
        "var4 = 'supercalifragilisticexpialidocious'\n",
        "print(\"var4 = \", var4)\n",
        "print('The type of the variable \"var4\" is:', type(var4), '\\n')\n",
        "\n",
        "var5 = 'עברית קשה שפה'  # Thanks to Unicode, strings can even contain chercters in any language\n",
        "print(\"var5 = \", var5)\n",
        "print('The type of the variable \"var5\" is:', type(var5), '\\n')\n",
        "\n",
        "var6 = '🦏 💕 🐴 => 🦄 '  # and even emojis\n",
        "print(\"var6 = \", var6)\n",
        "print('The type of the variable \"var6\" is:', type(var6), '\\n')"
      ],
      "execution_count": 0,
      "outputs": [
        {
          "output_type": "stream",
          "text": [
            "var1 =  5\n",
            "The type of the variable \"var1\" is: <class 'int'> \n",
            "\n",
            "var2 =  17.5\n",
            "The type of the variable \"var2\" is: <class 'float'> \n",
            "\n",
            "var3 =  False\n",
            "The type of the variable \"var2\" is: <class 'bool'> \n",
            "\n",
            "var4 =  supercalifragilisticexpialidocious\n",
            "The type of the variable \"var4\" is: <class 'str'> \n",
            "\n",
            "var5 =  עברית קשה שפה\n",
            "The type of the variable \"var5\" is: <class 'str'> \n",
            "\n",
            "var6 =  🦏 💕 🐴 => 🦄 \n",
            "The type of the variable \"var6\" is: <class 'str'> \n",
            "\n"
          ],
          "name": "stdout"
        }
      ]
    },
    {
      "cell_type": "markdown",
      "metadata": {
        "id": "SBfzUNG-Tw5n",
        "colab_type": "text"
      },
      "source": [
        "✍️ Claculate the square root of 2 and store in the variable \"irrational_var\". Use ** as the power operator (equivalent to ^ in Matlab)"
      ]
    },
    {
      "cell_type": "code",
      "metadata": {
        "id": "l1wOQAI2Txjx",
        "colab_type": "code",
        "colab": {}
      },
      "source": [
        "## %%%%%%%%%%%%%%% Your code here - Begin %%%%%%%%%%%%%%%\n",
        "...\n",
        "## %%%%%%%%%%%%%%% Your code here - End %%%%%%%%%%%%%%%%%"
      ],
      "execution_count": 0,
      "outputs": []
    },
    {
      "cell_type": "markdown",
      "metadata": {
        "id": "E7aK6VmZy0IM",
        "colab_type": "text"
      },
      "source": [
        "✍️ \n",
        "- Define a boolean variable named *not_false* and assign the value *True* to it. (Python in case sensetive)\n",
        "- Add the value complex value of *2+1j* to it and save it to the variable *var7*\n",
        "- Print the type of *var7*\n"
      ]
    },
    {
      "cell_type": "code",
      "metadata": {
        "id": "5MiKn5662XXA",
        "colab_type": "code",
        "outputId": "4e73d001-4ffb-4f3c-f56c-6b1a6ca931d8",
        "colab": {
          "base_uri": "https://localhost:8080/",
          "height": 51
        }
      },
      "source": [
        "## %%%%%%%%%%%%%%% Your code here - Begin %%%%%%%%%%%%%%%\n",
        "not_false = True\n",
        "var7 = not_false + 2 + 1j\n",
        "print(\"var7 = \", var7)\n",
        "print('The type of the variable \"var7\" is:', type(var7))\n",
        "## %%%%%%%%%%%%%%% Your code here - End %%%%%%%%%%%%%%%%%"
      ],
      "execution_count": 0,
      "outputs": [
        {
          "output_type": "stream",
          "text": [
            "var7 =  (3+1j)\n",
            "The type of the variable \"var7\" is: <class 'complex'>\n"
          ],
          "name": "stdout"
        }
      ]
    },
    {
      "cell_type": "markdown",
      "metadata": {
        "id": "0OPvbGkeFHQP",
        "colab_type": "text"
      },
      "source": [
        "### List and tuples\n",
        "\n",
        "*Lists* and *Tuples* are arrays of variables. The differnce between the two is that after defining a tuple it's values can not be changed. (This makes the use of them slightly faster in some cases)\n",
        "\n",
        "- !!!! Python starts counting from 0"
      ]
    },
    {
      "cell_type": "code",
      "metadata": {
        "id": "oMTL1jo1FGWt",
        "colab_type": "code",
        "outputId": "f2bacfd5-a44b-48b5-c1ea-a22e35a6b24e",
        "colab": {
          "base_uri": "https://localhost:8080/",
          "height": 136
        }
      },
      "source": [
        "marvel_super_heros = ['Iron Man', 'Captain America', 'Thor']  # This is a list\n",
        "dc_super_heros = ('Superman', 'Batman', 'Wonder Woman')  # This is a tuple\n",
        "\n",
        "print('The type of the variable \"marvel_super_heros\" is:', type(marvel_super_heros))\n",
        "print('The type of the variable \"dc_super_heros\" is:', type(dc_super_heros))"
      ],
      "execution_count": 0,
      "outputs": [
        {
          "output_type": "stream",
          "text": [
            "The type of the variable \"marvel_super_heros\" is: <class 'list'>\n",
            "The type of the variable \"dc_super_heros\" is: <class 'tuple'>\n",
            "First super hero in the Marvel list:  Iron Man\n",
            "Last super hero in the DC list:  Wonder Woman\n",
            "Original list:       ['Iron Man', 'Captain America', 'Thor']\n",
            "Updated list:        ['Iron Man', 'Spider Man', 'Thor']\n",
            "Updated list again:  ['Iron Man', 'Spider Man', 'Thor', 'Hulk', 'Deadpool']\n"
          ],
          "name": "stdout"
        }
      ]
    },
    {
      "cell_type": "markdown",
      "metadata": {
        "id": "jvf1ahrX4zJJ",
        "colab_type": "text"
      },
      "source": [
        "List and tuples can contain mixed types of variable (like Matlab's cells)"
      ]
    },
    {
      "cell_type": "code",
      "metadata": {
        "id": "KeKQ1hCn4-Bv",
        "colab_type": "code",
        "colab": {}
      },
      "source": [
        "mixed_list = ['pi', 3.14, 3, True]"
      ],
      "execution_count": 0,
      "outputs": []
    },
    {
      "cell_type": "markdown",
      "metadata": {
        "id": "tAinoQF05Q_a",
        "colab_type": "text"
      },
      "source": [
        "### Indexing Lists and Tuples"
      ]
    },
    {
      "cell_type": "code",
      "metadata": {
        "id": "4MKthZ7d5P0X",
        "colab_type": "code",
        "outputId": "f36937ad-8af2-4bd3-e408-daf05a286eb5",
        "colab": {
          "base_uri": "https://localhost:8080/",
          "height": 153
        }
      },
      "source": [
        "tens = [0, 10, 20, 30, 40, 50, 60, 70, 80, 90, 100]\n",
        "print(tens[5])\n",
        "print(tens[-2])\n",
        "print(tens[0:4])\n",
        "print(tens[:5])\n",
        "print(tens[2:])\n",
        "print(tens[1:-3:2])\n",
        "print(tens[7:2:-1])\n",
        "print(tens[::2])"
      ],
      "execution_count": 0,
      "outputs": [
        {
          "output_type": "stream",
          "text": [
            "50\n",
            "90\n",
            "[0, 10, 20, 30]\n",
            "[0, 10, 20, 30, 40]\n",
            "[20, 30, 40, 50, 60, 70, 80, 90, 100]\n",
            "[10, 30, 50, 70]\n",
            "[70, 60, 50, 40, 30]\n",
            "[0, 20, 40, 60, 80, 100]\n"
          ],
          "name": "stdout"
        }
      ]
    },
    {
      "cell_type": "code",
      "metadata": {
        "id": "RJ0NjLgA4n7C",
        "colab_type": "code",
        "colab": {}
      },
      "source": [
        "\n",
        "\n",
        "\n",
        "print('First super hero in the Marvel list: ', marvel_super_heros[0])\n",
        "print('Last super hero in the DC list: ', dc_super_heros[-1])\n",
        "\n",
        "print('Original list:      ', marvel_super_heros)\n",
        "\n",
        "marvel_super_heros[1] = 'Spider Man'\n",
        "print('Updated list:       ', marvel_super_heros)\n",
        "\n",
        "marvel_super_heros = marvel_super_heros + ['Hulk', 'Deadpool']\n",
        "print('Updated list again: ', marvel_super_heros)\n",
        "\n",
        "## This line will not by able to run:\n",
        "# dc_super_heros[0] = 'Mighty mouse'"
      ],
      "execution_count": 0,
      "outputs": []
    },
    {
      "cell_type": "markdown",
      "metadata": {
        "id": "pg6J56-_Usrx",
        "colab_type": "text"
      },
      "source": [
        "Create a list of all the prime numbers between 1 and 10. Print the third number from the end."
      ]
    },
    {
      "cell_type": "code",
      "metadata": {
        "id": "h-5T0bhCUbAl",
        "colab_type": "code",
        "colab": {}
      },
      "source": [
        "## Code here"
      ],
      "execution_count": 0,
      "outputs": []
    },
    {
      "cell_type": "markdown",
      "metadata": {
        "id": "BVGfeRizU933",
        "colab_type": "text"
      },
      "source": [
        "## Functions\n",
        "\n",
        "Functions that operate on num\n",
        "\n",
        "Functions that operate on iteratables (such as list and tuples)\n",
        "- len\n",
        "- sort\n",
        "- reverse\n",
        "- sum\n",
        "- max / min\n"
      ]
    },
    {
      "cell_type": "code",
      "metadata": {
        "id": "pnqSGBSNU9K8",
        "colab_type": "code",
        "colab": {}
      },
      "source": [
        ""
      ],
      "execution_count": 0,
      "outputs": []
    },
    {
      "cell_type": "markdown",
      "metadata": {
        "id": "PiQLieGREunL",
        "colab_type": "text"
      },
      "source": [
        "## Conditions (if's)"
      ]
    },
    {
      "cell_type": "code",
      "metadata": {
        "id": "VuKJBY_EEuMf",
        "colab_type": "code",
        "outputId": "31006b9e-3380-474d-c693-d5beb6298cc1",
        "colab": {
          "base_uri": "https://localhost:8080/",
          "height": 34
        }
      },
      "source": [
        "if 5 > 6:\n",
        "    print('5 is larger')\n",
        "else:\n",
        "    print('6 is larger')"
      ],
      "execution_count": 0,
      "outputs": [
        {
          "output_type": "stream",
          "text": [
            "6 is larger\n"
          ],
          "name": "stdout"
        }
      ]
    },
    {
      "cell_type": "code",
      "metadata": {
        "id": "0lGbTtDaEW4A",
        "colab_type": "code",
        "outputId": "daced50d-729b-4483-988a-589bbe6bcbc8",
        "colab": {
          "base_uri": "https://localhost:8080/",
          "height": 34
        }
      },
      "source": [
        "fruits = '🍎🍐🍊'  # This is a string\n",
        "vetgtables = ['🥬', '🥕', '🥔']  # This is a list of strings\n",
        "fruits_that_impose_as_vetgtables = ('🍅', '🥑', '🥒')  # This is a tuple of strings\n",
        "\n",
        "if '🍅' in fruits:\n",
        "    print('Tomato is a fruit.')\n",
        "elif '🍅' in vetgtables:\n",
        "    print('Tomato is a vetgtable.')\n",
        "elif '🍅' in fruits_that_impose_as_vetgtables:\n",
        "    print('Tomato is a fruit, that is offten mistaken as a vetgtable.')\n",
        "else:  \n",
        "    print('I have no idea what tomato is ¯\\_(ツ)_/¯')\n"
      ],
      "execution_count": 0,
      "outputs": [
        {
          "output_type": "stream",
          "text": [
            "Tomato is a fruit, that is offten mistaken as a vetgtable.\n"
          ],
          "name": "stdout"
        }
      ]
    },
    {
      "cell_type": "code",
      "metadata": {
        "id": "IjOtL8mwJWo8",
        "colab_type": "code",
        "outputId": "1e8d9af0-131a-46d4-a286-82476616620d",
        "colab": {
          "base_uri": "https://localhost:8080/",
          "height": 34
        }
      },
      "source": [
        "print(fruits_that_impose_as_vetgtables)"
      ],
      "execution_count": 0,
      "outputs": [
        {
          "output_type": "stream",
          "text": [
            "['🍅', '🥑', '🥒']\n"
          ],
          "name": "stdout"
        }
      ]
    },
    {
      "cell_type": "code",
      "metadata": {
        "id": "opCrpmq7H5mh",
        "colab_type": "code",
        "outputId": "0533de42-66bb-4d63-e41b-ee754a8a1480",
        "colab": {
          "base_uri": "https://localhost:8080/",
          "height": 34
        }
      },
      "source": [
        "fruits_that_impose_as_vetgtables[0] == '🍅'"
      ],
      "execution_count": 0,
      "outputs": [
        {
          "output_type": "execute_result",
          "data": {
            "text/plain": [
              "True"
            ]
          },
          "metadata": {
            "tags": []
          },
          "execution_count": 15
        }
      ]
    },
    {
      "cell_type": "code",
      "metadata": {
        "id": "tKPb6bxGJG56",
        "colab_type": "code",
        "colab": {}
      },
      "source": [
        ""
      ],
      "execution_count": 0,
      "outputs": []
    },
    {
      "cell_type": "markdown",
      "metadata": {
        "id": "ZC7vDPFwt6HR",
        "colab_type": "text"
      },
      "source": [
        ""
      ]
    },
    {
      "cell_type": "markdown",
      "metadata": {
        "id": "My-YFEeNt6EW",
        "colab_type": "text"
      },
      "source": [
        ""
      ]
    },
    {
      "cell_type": "markdown",
      "metadata": {
        "id": "WlUhtFo7t6BL",
        "colab_type": "text"
      },
      "source": [
        ""
      ]
    },
    {
      "cell_type": "markdown",
      "metadata": {
        "id": "34AwW-JDt5-U",
        "colab_type": "text"
      },
      "source": [
        ""
      ]
    },
    {
      "cell_type": "markdown",
      "metadata": {
        "id": "HbQV_e6yt57a",
        "colab_type": "text"
      },
      "source": [
        ""
      ]
    },
    {
      "cell_type": "markdown",
      "metadata": {
        "id": "Mdn_omfLt54s",
        "colab_type": "text"
      },
      "source": [
        ""
      ]
    },
    {
      "cell_type": "markdown",
      "metadata": {
        "id": "ChhidhVBt52G",
        "colab_type": "text"
      },
      "source": [
        ""
      ]
    },
    {
      "cell_type": "markdown",
      "metadata": {
        "id": "p0fb4YyCt5zu",
        "colab_type": "text"
      },
      "source": [
        ""
      ]
    },
    {
      "cell_type": "markdown",
      "metadata": {
        "id": "vmNx4_Qht5wt",
        "colab_type": "text"
      },
      "source": [
        "### Some online resourses\n",
        "\n",
        "If you are looking for a quick rough overview take a llok at this:\n",
        "- [A Whirlwind Tour of Python](https://jakevdp.github.io/WhirlwindTourOfPython/): A short overview of the language which is oriented towards data science applications. Another resource from the same author is the [Python data science handbook](https://jakevdp.github.io/PythonDataScienceHandbook/)\n",
        "\n",
        "If you are looking for a more thorough online course try one of these:\n",
        "- [Python @ Tutorials Point](https://www.tutorialspoint.com/python/): One of the many free online Python courses.\n",
        "- [Python for data science](https://www.datacamp.com/courses/intro-to-python-for-data-science): Another online Python course. Free but requires registration.\n",
        "\n",
        "If you simply want to get started and have some Matlab experience, you can make use of these two web pages:\n",
        "- [NumPy for Matlab users 1](https://docs.scipy.org/doc/numpy/user/numpy-for-matlab-users.html): A good place to start with to get a grip of NumPy when coming from matlab.\n",
        "- [NumPy for Matlab users 2](http://mathesaurus.sourceforge.net/matlab-numpy.html): Another web page similar to the one above with  a slightly different set of commands.\n",
        "\n",
        "Once you feel comfortable with the basic Python syntax you can take a look at these short three guides to improve your NumPy, Pandas and Colab  capabilities:\n",
        "- [NumPy's quickstart tutorial](https://www.numpy.org/devdocs/user/quickstart.html): A quickstart tutorial on NumPy from NumPy's official website.\n",
        "- [10 Minutes to pandas](https://pandas.pydata.org/pandas-docs/stable/getting_started/10min.html): A quickstart tutorial on Pandas from Pandas' official website.\n",
        "- [Welcome to Google Colabratory](https://colab.research.google.com/notebooks/welcome.ipynb): The official introduction to Google Colabratory."
      ]
    },
    {
      "cell_type": "code",
      "metadata": {
        "id": "-Z4w6M7at80H",
        "colab_type": "code",
        "colab": {}
      },
      "source": [
        ""
      ],
      "execution_count": 0,
      "outputs": []
    }
  ]
}